{
 "cells": [
  {
   "cell_type": "code",
   "execution_count": 1,
   "id": "32ce09ea",
   "metadata": {},
   "outputs": [],
   "source": [
    "import calendar"
   ]
  },
  {
   "cell_type": "code",
   "execution_count": 27,
   "id": "31536d61",
   "metadata": {},
   "outputs": [],
   "source": [
    "meses = list(calendar.month_name[1:])"
   ]
  },
  {
   "cell_type": "code",
   "execution_count": 28,
   "id": "8e0c663f",
   "metadata": {},
   "outputs": [],
   "source": [
    "days = list()\n",
    "for i in range (1,32):\n",
    "    i = str(i)\n",
    "    days.append('Dia'+i)\n",
    "    "
   ]
  },
  {
   "cell_type": "code",
   "execution_count": 29,
   "id": "e37de8fc",
   "metadata": {},
   "outputs": [
    {
     "data": {
      "text/plain": [
       "['Dia1',\n",
       " 'Dia2',\n",
       " 'Dia3',\n",
       " 'Dia4',\n",
       " 'Dia5',\n",
       " 'Dia6',\n",
       " 'Dia7',\n",
       " 'Dia8',\n",
       " 'Dia9',\n",
       " 'Dia10',\n",
       " 'Dia11',\n",
       " 'Dia12',\n",
       " 'Dia13',\n",
       " 'Dia14',\n",
       " 'Dia15',\n",
       " 'Dia16',\n",
       " 'Dia17',\n",
       " 'Dia18',\n",
       " 'Dia19',\n",
       " 'Dia20',\n",
       " 'Dia21',\n",
       " 'Dia22',\n",
       " 'Dia23',\n",
       " 'Dia24',\n",
       " 'Dia25',\n",
       " 'Dia26',\n",
       " 'Dia27',\n",
       " 'Dia28',\n",
       " 'Dia29',\n",
       " 'Dia30',\n",
       " 'Dia31']"
      ]
     },
     "execution_count": 29,
     "metadata": {},
     "output_type": "execute_result"
    }
   ],
   "source": [
    "days"
   ]
  },
  {
   "cell_type": "code",
   "execution_count": 30,
   "id": "776120ea",
   "metadata": {},
   "outputs": [],
   "source": [
    "from pathlib import Path"
   ]
  },
  {
   "cell_type": "code",
   "execution_count": 31,
   "id": "594cfdfe",
   "metadata": {},
   "outputs": [],
   "source": [
    "Path('2023/Junio').mkdir(parents=True, exist_ok=True)"
   ]
  },
  {
   "cell_type": "code",
   "execution_count": 32,
   "id": "563fafc6",
   "metadata": {},
   "outputs": [],
   "source": [
    "for i, mes in enumerate(meses):\n",
    "    for dia in days:\n",
    "        Path(f'2023/{i+1}.{mes}/{dia}').mkdir(parents=True, exist_ok=True)"
   ]
  },
  {
   "cell_type": "code",
   "execution_count": null,
   "id": "3f9a064d",
   "metadata": {},
   "outputs": [],
   "source": []
  }
 ],
 "metadata": {
  "kernelspec": {
   "display_name": "Python 3 (ipykernel)",
   "language": "python",
   "name": "python3"
  },
  "language_info": {
   "codemirror_mode": {
    "name": "ipython",
    "version": 3
   },
   "file_extension": ".py",
   "mimetype": "text/x-python",
   "name": "python",
   "nbconvert_exporter": "python",
   "pygments_lexer": "ipython3",
   "version": "3.9.13"
  }
 },
 "nbformat": 4,
 "nbformat_minor": 5
}
